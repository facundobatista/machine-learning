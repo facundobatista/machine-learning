{
  "nbformat": 4,
  "nbformat_minor": 0,
  "metadata": {
    "colab": {
      "name": "Convolucional-encuentro_3.ipynb",
      "provenance": [],
      "collapsed_sections": []
    },
    "kernelspec": {
      "name": "python3",
      "display_name": "Python 3"
    },
    "accelerator": "GPU"
  },
  "cells": [
    {
      "cell_type": "markdown",
      "metadata": {
        "id": "_WZTHWTR7Tyc",
        "colab_type": "text"
      },
      "source": [
        "# Redes neuronales convolucionales en Python con Keras"
      ]
    },
    {
      "cell_type": "markdown",
      "metadata": {
        "id": "jgZA8oeV7iAp",
        "colab_type": "text"
      },
      "source": [
        "Implementaremos una red neuronal convolucional (CCN) en Python con Keras, y veremos cómo eludir el sobreajuste (_overfitting_) utilizando _dropout_.\n",
        "\n",
        "Este tutorial está adaptado de [Convolutional Neural Networks in Python with Keras](https://www.datacamp.com/community/tutorials/convolutional-neural-networks-python) de [Aditya Sharma](https://www.datacamp.com/profile/adityasharma101993)."
      ]
    },
    {
      "cell_type": "markdown",
      "metadata": {
        "id": "KEiFHPd58pYU",
        "colab_type": "text"
      },
      "source": [
        "## Redes neuronales convolucionales: introducción\n",
        "\n",
        "Las redes neuronales convolucionales, a las que nos referiremos como CNN por su sigla en inglés, son un tipo especial de redes neuronales profundas, del tipo perceptrón multicapa (MLP) o _feed forward_, denominados así debido a que la información fluye hacia adelante, desde la capa _input_ hasta la _output_, sin que haya conexiones en que las salidas de las neuronas se conviertan en entradas de las mismas.\n",
        "\n",
        "Las CNNs están inspiradas en la [corteza visual biológica](https://es.wikipedia.org/wiki/Corteza_visual), o córtex visual, que posee pequeñas regiones de células que son sensibles a áreas específicas del campo visual.\n",
        "\n",
        "Esta idea se reforzó a partir del experimento realizado por [Hubel y Wiesel en 1962](https://www.ncbi.nlm.nih.gov/pmc/articles/PMC1359523/). En este experimento (del que hay un [video interesante](https://youtu.be/Cw5PKV9Rj3o)), los investigadores demostraron que algunas neuronas individuales en el cerebro se activaban o disparaban solo en presencia de bordes con una orientación particular (verticales u horizontales). Por ejemplo, algunas neuronas se disparan cuando se exponen a lados verticales y otras cuando se les muestra un borde horizontal. Hubel y Wiesel descubrieron que todas estas neuronas estaban bien ordenadas en forma de columnas y que juntas podían generar la percepción visual. Esta idea de componentes especializados dentro de un sistema que tienen tareas específicas es la que da origen a las CNN.\n",
        "\n",
        "Las CNN constituyen una de las innovaciones de mayor influencia en el campo de la visión por computadora, ya que logran desempeños muy superiores a los de la visión computacional tradicional. Estas redes neuronales han sido probadas exitosamente en muchas aplicaciones en el mundo real, tales como:\n",
        "\n",
        "- Clasificación de imágenes, detección de objetos, segmentación, reconocimiento facial.\n",
        "- Control de vehículos autónomos.\n",
        "- Clasificación de estructuras cristalinas.\n",
        "- [Dispersión de microondas](https://arxiv.org/abs/1908.10424)\n",
        "- Sistemas de seguridad y prevención de intrusiones.\n",
        "- Etc.\n",
        "\n",
        "El primer éxito de aplicación fue en 2012, cuando Alex Krizhevsky usó CNNs para ganar la competencia ImageNet de ese año, reduciendo el error de clasificación de 26% a 15%. La competencia ImageNet (_ImageNet Large Scale Visual Recognition Challenge_ - ILSVRC) comenzó en el año 2010, y se realiza anualmente. El ella los equipos de investigación reciben conjuntos de datos con el propósito de alcanzar la mayor precisión en diversas tareas de reconocimiento visual. \n",
        "\n",
        "En esa época se inició la \"tercera ola de las redes neuronales\", Las otras dos fueron entre la década del 40 y la del 60, y entre las décadas de los 70's y 80's.\n",
        "\n",
        "El esquema general de una CNN es el siguiente (imagen de [Wikimedia](https://commons.wikimedia.org/wiki/File:Typical_cnn.png)):\n",
        "\n",
        "![CNN](https://upload.wikimedia.org/wikipedia/commons/6/63/Typical_cnn.png)\n",
        "\n",
        "La red tiene como _input_ una imagen, que luego es procesada a través de múltiples convoluciones, submuestreo, una capa completamente conectada, y finalmente un _output_.\n",
        "\n",
        "La capa de convolución calcula la salida de neuronas que están conectadas a regiones locales, o campos receptivos, en el _input_, a través del producto escalar de sus pesos y el pequeño campo receptivo al que están conectadas en el _input_. Cada cálculo produce la extracción de un mapa de características (_features_) de la imagen de entrada. En otras palabras, podemos imaginar que tenemos una imagen representada como una matriz de valores de 5x5, y tomamos una matriz de 3x3 y deslizamos esa ventana o núcleo (_kernel_) de 3x3 por toda la imagen. En cada posición de esa matriz, multiplicamos los valores de la ventana de 3x3 por los valores de la imagen que están siendo cubiertos actualmente por la ventana. Como resultado, obtendremos un solo número que representa todos los valores en esa ventana de las imágenes. Utilizamos esta capa para filtrar: a medida que la ventana se mueve sobre la imagen, comprobamos si hay patrones en esa sección de la imagen. Se puede ver [aquí](https://poloclub.github.io/cnn-explainer/) una animación del funcionamiento de los filtros y el significado de algunos hiperparámetros.\n",
        "\n",
        "El objetivo del submuestreo es obtener una representación de la entrada reduciendo sus dimensiones, lo que ayuda a reducir el sobreajuste. Una de las técnicas de submuestreo es la combinación máxima (_max pooling_). Con esta técnica, se selecciona el valor de píxel más alto de una región en función de su tamaño. En otras palabras, la combinación máxima toma el valor más grande de la ventana de la imagen que actualmente cubre el kernel. Por ejemplo, puede tener una capa de agrupación máxima de tamaño 2 x 2 que seleccionará el valor máximo de intensidad de píxeles de la región 2 x 2. La capa de agrupación funciona de manera muy similar a la capa de convolución. Se toma un kernel o una ventana y se lo mueve sobre la imagen, la única diferencia es que la función que se aplica al kernel y la ventana de la imagen no es lineal.\n",
        "\n",
        "![Max pooling](https://upload.wikimedia.org/wikipedia/commons/e/e9/Max_pooling.png) Max Pooling de [Wikipedia](https://en.wikipedia.org/wiki/Convolutional_neural_network)\n",
        "\n",
        "Finalmente, el objetivo de una capa completamente conectada es la de aplanar las características de alto nivel que se aprenden mediante las capas convolucionales, y combinar todas las características. Pasa la salida aplanada a la capa de salida donde usa un clasificador softmax o un sigmoide para predecir la etiqueta de clase de entrada."
      ]
    },
    {
      "cell_type": "markdown",
      "metadata": {
        "id": "wl6uNRu21PzI",
        "colab_type": "text"
      },
      "source": [
        "## Habilitación y verificación de GPU\n",
        "\n",
        "Primero necesitamos habilitar una GPU para el _notebook_. Para ello, hay que acceder al menú: Editar / Configuración del notebook, y seleccionar GPU del menú desplegable \"Acelerador de hardware\".\n",
        "\n",
        "Luego, confirmamos que podemos conectar la GPU con tensorflow\n"
      ]
    },
    {
      "cell_type": "code",
      "metadata": {
        "id": "HMo5vhKI1ICZ",
        "colab_type": "code",
        "colab": {
          "base_uri": "https://localhost:8080/",
          "height": 34
        },
        "outputId": "7920f01c-7a7c-40e7-e6b1-ba18755aeebb"
      },
      "source": [
        "%tensorflow_version 2.x\n",
        "import tensorflow as tf\n",
        "device_name = tf.test.gpu_device_name()\n",
        "if device_name != '/device:GPU:0':\n",
        "  raise SystemError('GPU device not found')\n",
        "print('Found GPU at: {}'.format(device_name))"
      ],
      "execution_count": 1,
      "outputs": [
        {
          "output_type": "stream",
          "text": [
            "Found GPU at: /device:GPU:0\n"
          ],
          "name": "stdout"
        }
      ]
    },
    {
      "cell_type": "markdown",
      "metadata": {
        "id": "3E8A0EidLk8r",
        "colab_type": "text"
      },
      "source": [
        "## Conjunto de datos Fashion-MNIST\n",
        "\n",
        "El dataset Fashion-MNIST es un conjunto de imágenes de artículos de [Zalando](https://arxiv.org/abs/1708.07747) en escala de grises de 28x28. Consiste en 70.000 productos de indumentaria agrupados en 10 categorías, y 7.000 imágenes por categoría. El conjunto de entrenamiento tiene 60.000 imágenes y el de verificación tiene 10.000.\n",
        "\n",
        "Este dataset es similar al MNIST que usó Ramiro en el segundo encuentro para clasificar dígitos escritos a mano. Esto significa que las dimensiones de las imágenes, y las divisiones de entrenamiento y verificación son similares al del dataset MNIST.\n",
        "\n",
        "Keras tiene una biblioteca denominada `datasets` que se puede utilizar para obtener conjuntos de datos de prueba. Las imágenes de entrenamiento y prueba, junto con las etiquetas, se guardan en las variables `train_X`, `train_Y`, `test_X` y `test_Y`, respectivamente:"
      ]
    },
    {
      "cell_type": "code",
      "metadata": {
        "id": "eQaozT8t1Xm9",
        "colab_type": "code",
        "colab": {}
      },
      "source": [
        "from keras.datasets import fashion_mnist\n",
        "(train_X,train_Y), (test_X,test_Y) = fashion_mnist.load_data()"
      ],
      "execution_count": 2,
      "outputs": []
    },
    {
      "cell_type": "markdown",
      "metadata": {
        "id": "Q3q9yxO-O5ky",
        "colab_type": "text"
      },
      "source": [
        "## Análisis de los datos\n",
        "\n",
        "Analizaremos cómo es la estructura de datos en el dataset. Aunque ya sabemos la dimensión de las imágenes, es útil analizarlo programáticamente, ya que nos permite reescalar las imágenes."
      ]
    },
    {
      "cell_type": "code",
      "metadata": {
        "id": "2lSnA3jJ1kQM",
        "colab_type": "code",
        "colab": {
          "base_uri": "https://localhost:8080/",
          "height": 52
        },
        "outputId": "5f754318-ea9b-4961-b38c-ce3cba144089"
      },
      "source": [
        "import numpy as np\n",
        "from keras.utils import to_categorical\n",
        "import matplotlib.pyplot as plt\n",
        "%matplotlib inline\n",
        "\n",
        "print('Training data shape : ', train_X.shape, train_Y.shape)\n",
        "\n",
        "print('Testing data shape : ', test_X.shape, test_Y.shape)"
      ],
      "execution_count": 3,
      "outputs": [
        {
          "output_type": "stream",
          "text": [
            "Training data shape :  (60000, 28, 28) (60000,)\n",
            "Testing data shape :  (10000, 28, 28) (10000,)\n"
          ],
          "name": "stdout"
        }
      ]
    },
    {
      "cell_type": "markdown",
      "metadata": {
        "id": "MYxASHBqPZ9W",
        "colab_type": "text"
      },
      "source": [
        "De la salida anterior podemos ver que los datos de entrenamiento tienen una forma de 60.000 x 28 x 28, dado que hay 60.000 muestras de entrenamiento, cada una de dimensiones 28 x 28. Del mismo modo, los datos de prueba tienen una forma de 10.000 x 28 x 28, dado que hay 10.000 muestras de prueba."
      ]
    },
    {
      "cell_type": "code",
      "metadata": {
        "id": "eUo2LU3d1thc",
        "colab_type": "code",
        "colab": {
          "base_uri": "https://localhost:8080/",
          "height": 52
        },
        "outputId": "996efbed-d24a-494f-b67c-effbc125a4bf"
      },
      "source": [
        "# Encontrar los valores únicos de las etiquetas de entrenamiento\n",
        "classes = np.unique(train_Y)\n",
        "nClasses = len(classes)\n",
        "print('Total number of outputs : ', nClasses)\n",
        "print('Output classes : ', classes)"
      ],
      "execution_count": 4,
      "outputs": [
        {
          "output_type": "stream",
          "text": [
            "Total number of outputs :  10\n",
            "Output classes :  [0 1 2 3 4 5 6 7 8 9]\n"
          ],
          "name": "stdout"
        }
      ]
    },
    {
      "cell_type": "markdown",
      "metadata": {
        "id": "wVwFDrenQJ1g",
        "colab_type": "text"
      },
      "source": [
        "Tenemos un total de 10 clases de salida en el rango de 0 a 9.\n",
        "\n",
        "Vamos a ver algunas imágenes en el dataset:"
      ]
    },
    {
      "cell_type": "code",
      "metadata": {
        "id": "jg-LhB4i10wj",
        "colab_type": "code",
        "colab": {
          "base_uri": "https://localhost:8080/",
          "height": 335
        },
        "outputId": "c45e58dc-3a6a-4c60-dc03-c25a4f1c555f"
      },
      "source": [
        "plt.figure(figsize=[10,10])\n",
        "im_idx = 0\n",
        "# Mostramos la imagen im_idx en los datos de entrenamiento\n",
        "plt.subplot(121)\n",
        "plt.imshow(train_X[im_idx,:,:], cmap='gray')\n",
        "plt.title(\"Categoría : {}\".format(train_Y[im_idx]))\n",
        "\n",
        "# Mostramos la primera imagen en los datos de prueba\n",
        "plt.subplot(122)\n",
        "plt.imshow(test_X[im_idx,:,:], cmap='gray')\n",
        "plt.title(\"Categoría : {}\".format(test_Y[im_idx]))"
      ],
      "execution_count": 5,
      "outputs": [
        {
          "output_type": "execute_result",
          "data": {
            "text/plain": [
              "Text(0.5, 1.0, 'Categoría : 9')"
            ]
          },
          "metadata": {
            "tags": []
          },
          "execution_count": 5
        },
        {
          "output_type": "display_data",
          "data": {
            "image/png": "[encoded data removed]",
            "text/plain": [
              "<Figure size 720x720 with 2 Axes>"
            ]
          },
          "metadata": {
            "tags": [],
            "needs_background": "light"
          }
        }
      ]
    },
    {
      "cell_type": "markdown",
      "metadata": {
        "id": "nNXMNuekSMnq",
        "colab_type": "text"
      },
      "source": [
        "La salida de los dos gráficos anteriores parece una zapatilla, y a esta clase se le asigna una etiqueta de clase de 9. De manera similar, otros productos de indumentaria tendrán diferentes etiquetas, pero productos similares tendrán las mismas etiquetas. Esto significa que las 7.000 imágenes de zapatillas tendrán una etiqueta de clase de 9."
      ]
    },
    {
      "cell_type": "markdown",
      "metadata": {
        "id": "5SJPRRjKSYB1",
        "colab_type": "text"
      },
      "source": [
        "## Procesamiento de datos\n",
        "\n",
        "Como se puede ver en el gráfico anterior, las imágenes son están en escala de grises con valores de píxeles que van de 0 a 255. Además, estas imágenes tienen una dimensión de 28 x 28. Como resultado, debemos preprocesar los datos antes de introducirlos en el modelo.\n",
        "\n",
        "Como primer paso, convertimos cada imagen de 28 x 28 de los conjuntos de entrenamiento y de prueba en una matriz de tamaño 28 x 28 x 1, que se alimenta a la red en la capa _input_."
      ]
    },
    {
      "cell_type": "code",
      "metadata": {
        "id": "OxMTNVmb18d7",
        "colab_type": "code",
        "colab": {
          "base_uri": "https://localhost:8080/",
          "height": 34
        },
        "outputId": "b605a5e0-5512-4edf-d03d-53a255cf0ce9"
      },
      "source": [
        "train_X = train_X.reshape(-1, 28,28, 1)\n",
        "test_X = test_X.reshape(-1, 28,28, 1)\n",
        "train_X.shape, test_X.shape"
      ],
      "execution_count": 6,
      "outputs": [
        {
          "output_type": "execute_result",
          "data": {
            "text/plain": [
              "((60000, 28, 28, 1), (10000, 28, 28, 1))"
            ]
          },
          "metadata": {
            "tags": []
          },
          "execution_count": 6
        }
      ]
    },
    {
      "cell_type": "markdown",
      "metadata": {
        "id": "IfR8KmdkUEHr",
        "colab_type": "text"
      },
      "source": [
        "Actualmente los datos se encuentran en un formato `int8 por lo que antes de pasarlos a la red hay que convertirlos en `float32 y reescalar los valores de los pixeles en el rango [0, 1]:"
      ]
    },
    {
      "cell_type": "code",
      "metadata": {
        "id": "kLYoYB3_2Ibh",
        "colab_type": "code",
        "colab": {}
      },
      "source": [
        "train_X = train_X.astype('float32')\n",
        "test_X = test_X.astype('float32')\n",
        "train_X = train_X / 255.\n",
        "test_X = test_X / 255."
      ],
      "execution_count": 7,
      "outputs": []
    },
    {
      "cell_type": "markdown",
      "metadata": {
        "id": "TNFrsz4vUohx",
        "colab_type": "text"
      },
      "source": [
        "Ahora necesitamos convertir las etiquetas de clase en un vector de codificación [_one-hot_](https://es.wikipedia.org/wiki/One-hot).\n",
        "\n",
        "En la codificación one-hot, los datos categóricos se convierten en un vector de números. Esto es porque los algoritmos de aprendizaje automático no pueden trabajar directamente con datos categóricos. Se genera una columna booleana para cada categoría o clase. Solo una de estas columnas podría tomar el valor 1 para cada muestra. De ahí el término codificación _one-hot_.\n",
        "\n",
        "Para el planteamiento del problema, la única codificación activa será un vector de fila, y para cada imagen, tendrá una dimensión de 1 x 10. Lo importante a tener en cuenta aquí es que el vector consta de todos ceros, excepto por la clase que representa, en la cual toma el valor 1. Por ejemplo, la imagen de la zapatilla de arriba tiene una etiqueta de 9, por lo que para todas las imágenes de zapatillas, el vector de codificación _one-hot_ [0 0 0 0 0 0 0 0 0 1]."
      ]
    },
    {
      "cell_type": "code",
      "metadata": {
        "id": "IWH8o08J2NGZ",
        "colab_type": "code",
        "colab": {
          "base_uri": "https://localhost:8080/",
          "height": 69
        },
        "outputId": "fcadc7c0-118f-462f-90d7-7d9c97f6e298"
      },
      "source": [
        "# Cambio de las etiquetas de categóricas a codificacióón one-hot\n",
        "train_Y_one_hot = to_categorical(train_Y)\n",
        "test_Y_one_hot = to_categorical(test_Y)\n",
        "\n",
        "# Mostramos el cambio de las etiquetas de categoría por codificación one-hot\n",
        "print('Etiqueta original:', train_Y[0])\n",
        "print('Después de la codificación one-hot:', train_Y_one_hot[0])\n",
        "print(train_Y_one_hot.shape)\n"
      ],
      "execution_count": 8,
      "outputs": [
        {
          "output_type": "stream",
          "text": [
            "Etiqueta original: 9\n",
            "Después de la codificación one-hot: [0. 0. 0. 0. 0. 0. 0. 0. 0. 1.]\n",
            "(60000, 10)\n"
          ],
          "name": "stdout"
        }
      ]
    },
    {
      "cell_type": "markdown",
      "metadata": {
        "id": "s5LYEYDeWaTZ",
        "colab_type": "text"
      },
      "source": [
        "En el aprendizaje automático o cualquier tarea específica de datos, se debe particionar los datos correctamente. Para que el modelo generalice bien, vamos a dividir los datos de entrenamiento en dos partes, una diseñada para entrenamiento y otra para validación. En este caso, entrenaremos el modelo en el 80% de los datos de entrenamiento y lo validaremos en el 20% de los datos de entrenamiento restantes. Esto también ayudará a reducir el sobreajuste, ya que estaremos validando el modelo con los datos que no habría visto en la fase de entrenamiento, lo que ayudará a mejorar el rendimiento de sobre los datos de prueba. Recordemos que el conjunto total de datos se particiona del siguiente modo:\n",
        "```\n",
        "########################### ----------   |    ++++++\n",
        "       Entrenamiento        Validación   |    Prueba\n",
        "                                         |\n",
        "--------------------------------------   |    ------\n",
        "               Aprendizaje               |     Final\n",
        "``` "
      ]
    },
    {
      "cell_type": "code",
      "metadata": {
        "id": "c83kr2sQ2SjQ",
        "colab_type": "code",
        "colab": {
          "base_uri": "https://localhost:8080/",
          "height": 34
        },
        "outputId": "587cf20f-71e8-4f55-980d-823bb0f81c7d"
      },
      "source": [
        "from sklearn.model_selection import train_test_split\n",
        "train_X,valid_X,train_label,valid_label = train_test_split(train_X, train_Y_one_hot, test_size=0.2, random_state=13)\n",
        "train_X.shape,valid_X.shape,train_label.shape,valid_label.shape"
      ],
      "execution_count": 9,
      "outputs": [
        {
          "output_type": "execute_result",
          "data": {
            "text/plain": [
              "((48000, 28, 28, 1), (12000, 28, 28, 1), (48000, 10), (12000, 10))"
            ]
          },
          "metadata": {
            "tags": []
          },
          "execution_count": 9
        }
      ]
    },
    {
      "cell_type": "markdown",
      "metadata": {
        "id": "38-nApmyXNFG",
        "colab_type": "text"
      },
      "source": [
        "## La red\n",
        "\n",
        "Las imágenes originales tienen un tamaño de 28 x 28. Convertimos la matriz de la imagen en un array, lo rescalamos entre 0 y 1, lo modificamos para que tenga un tamaño de 28 x 28 x 1 y finalmente lo alimentamos como una _input_ a la red.\n",
        "\n",
        "Usaremos tres capas convolucionales:\n",
        "\n",
        "- La primera capa tendrá 32 filtros de 3 x 3,\n",
        "- La segunda capa tendrá 64 filtros de 3 x 3 y\n",
        "- La tercera capa tendrá 128 filtros de 3 x 3.\n",
        "\n",
        "Además, hay tres capas de combinación máxima (_max-pooling_), cada una de tamaño 2 x 2.\n",
        "\n",
        "![red](https://raw.githubusercontent.com/gmg-utn/machine-learning/master/encuentro_03/fashion-mnist-architecture.png)"
      ]
    },
    {
      "cell_type": "markdown",
      "metadata": {
        "id": "TxlXnK5paWhM",
        "colab_type": "text"
      },
      "source": [
        "## El modelo\n",
        "\n",
        "Importamos primero los módulos necesarios para entrenar el modelo:"
      ]
    },
    {
      "cell_type": "code",
      "metadata": {
        "id": "nJbQZsxN2bb3",
        "colab_type": "code",
        "colab": {}
      },
      "source": [
        "import keras\n",
        "from keras.models import Sequential,Input,Model\n",
        "from keras.layers import Dense, Dropout, Flatten\n",
        "from keras.layers import Conv2D, MaxPooling2D\n",
        "from keras.layers.normalization import BatchNormalization\n",
        "from keras.layers.advanced_activations import LeakyReLU"
      ],
      "execution_count": 10,
      "outputs": []
    },
    {
      "cell_type": "markdown",
      "metadata": {
        "id": "P5Ux8UZwbFBf",
        "colab_type": "text"
      },
      "source": [
        "Utilizaremos un tamaño de batch de 64. Con un batch mayor de 128 o 256 podemos tener mejores resultados, pero depende de la memoria disponible. El tamaño del batch contribuye a determinar los parámetros de aprendizaje y afecta la precisión de la predicción. Entrenaremos a la red durante 20 épocas."
      ]
    },
    {
      "cell_type": "code",
      "metadata": {
        "id": "lfDm9_G82_dk",
        "colab_type": "code",
        "colab": {}
      },
      "source": [
        "batch_size = 64\n",
        "epochs = 20\n",
        "num_classes = 10"
      ],
      "execution_count": 11,
      "outputs": []
    },
    {
      "cell_type": "markdown",
      "metadata": {
        "id": "IG2hMaVEbWRL",
        "colab_type": "text"
      },
      "source": [
        "## Arquitectura de la red neuronal\n",
        "\n",
        "En Keras, se puede construir la red agregando la capa deseada una por una. Primero agregaremos una capa convolucional con `Conv2D()`. Usamos esta función porque estamos trabajando con imágenes. A continuación, agregamos la función de activación Leaky ReLU. Estas funciones de activación intentan solucionar el problema de las unidades lineales rectificadas (ReLU) que mueren, en lo que se conoce como [problema de desvanecimiento del gradiente](https://es.wikipedia.org/wiki/Problema_de_desvanecimiento_de_gradiente). La función de activación de ReLU se utiliza mucho en arquitecturas de redes neuronales y más específicamente en redes convolucionales, donde ha demostrado ser más eficaz que la función sigmoidea logística utilizada ampliamente. Desde 2017, esta función de activación es la más popular para redes neuronales profundas. La función ReLU permite establecer un umbral de activación en cero. Sin embargo, durante el entrenamiento, las unidades ReLU pueden \"morir\". Esto puede suceder cuando un gradiente grande fluye a través de una neurona ReLU: puede hacer que los pesos se actualicen de tal manera que la neurona nunca más se active en ningún punto de datos. Si esto sucede, entonces el gradiente que fluye a través de la unidad será siempre cero a partir de ese punto. Los ReLU con fugas intentan resolver esto: la función no será cero, sino que tendrá una pequeña pendiente negativa. La expresión que calcula la activación Leaky ReLU es:\n",
        "$$ f(x) = \\begin{cases}\n",
        "x,  &\\text{si } x > 0,\\\\\n",
        "0.01x,& \\text{si }  x \\leq 0\n",
        "\\end{cases} $$\n",
        "\n",
        "A continuación, agregaremos la capa de agrupación máxima con `MaxPooling2D()`, y así sucesivamente. La última capa es una capa `Dense` que tiene una función de activación softmax con 10 unidades, que es necesaria para este problema de clasificación de clases múltiples."
      ]
    },
    {
      "cell_type": "code",
      "metadata": {
        "id": "OyrIikTa3CEh",
        "colab_type": "code",
        "colab": {}
      },
      "source": [
        "fashion_model = Sequential()\n",
        "fashion_model.add(Conv2D(32, kernel_size=(3, 3),activation='linear',input_shape=(28,28,1),padding='same'))\n",
        "fashion_model.add(LeakyReLU(alpha=0.1))\n",
        "fashion_model.add(MaxPooling2D((2, 2),padding='same'))\n",
        "fashion_model.add(Conv2D(64, (3, 3), activation='linear',padding='same'))\n",
        "fashion_model.add(LeakyReLU(alpha=0.1))\n",
        "fashion_model.add(MaxPooling2D(pool_size=(2, 2),padding='same'))\n",
        "fashion_model.add(Conv2D(128, (3, 3), activation='linear',padding='same'))\n",
        "fashion_model.add(LeakyReLU(alpha=0.1))                  \n",
        "fashion_model.add(MaxPooling2D(pool_size=(2, 2),padding='same'))\n",
        "fashion_model.add(Flatten())\n",
        "fashion_model.add(Dense(128, activation='linear'))\n",
        "fashion_model.add(LeakyReLU(alpha=0.1))                  \n",
        "fashion_model.add(Dense(num_classes, activation='softmax'))\n"
      ],
      "execution_count": 12,
      "outputs": []
    },
    {
      "cell_type": "markdown",
      "metadata": {
        "id": "Dqsah55-dfq4",
        "colab_type": "text"
      },
      "source": [
        "## Compilación del modelo\n",
        "\n",
        "Una vez creado el modelo, lo compilamos utilizando el optimizador [Adam](https://machinelearningmastery.com/adam-optimization-algorithm-for-deep-learning/), uno de los algoritmos de optimización más populares. El trabajo que describe el algortimo se puede ver en [arXiv](https://arxiv.org/abs/1412.6980), pero básicamente consiste en ajustar las actualizaciones de los parámetros utilizando los promedios de los gradientes y segundos momentos de los gradientes. Dados los parámetros $w^(t)$ y función de pérdida $L^{(t)}$, donde $t$ representa el índice de la iteración de entrenamiento, la actualización de parámetros Adam está dada por:\n",
        "\n",
        "$$ m_w^{(t+1)} \\leftarrow \\beta_1 m_w^{(t)} + (1 - \\beta_1) \\nabla_w L^{(t)} $$\n",
        "$$ v_w^{(t+1)} \\leftarrow \\beta_2 v_w^{(t)} + (1 - \\beta_2) (\\nabla_w L^{(t)})^2 $$\n",
        "$$ \\hat{m}_w = \\frac{m_w^{(t+1)}}{1- \\beta_1^{t+1}} $$\n",
        "$$ \\hat{v}_w = \\frac{m_w^{(t+1)}}{1- \\beta_2^{t+1}} $$\n",
        "$$ w^{(t+1)} \\leftarrow w^{(t)} - \\alpha \\frac{\\hat{m}_w}{\\sqrt{\\hat{v}_w} + \\epsilon} $$ \n",
        "donde $\\epsilon$ es un escalar pequeño ($\\sim 10^{-8}$) usado para prevenir una división por cero, $\\beta_1$ ($\\in [0,1), \\sim 0.9$) y $\\beta_2$ ($\\in [0,1), \\sim 0.999$) son los factores \"de olvido\" del gradiente y segundo momento del gradiente. Como es usual, $\\alpha$ es la tasa de aprendizaje ($\\sim 0.001$). Todas las operaciones sobre vectores son elemento por elemento (_element wise_).\n",
        "\n",
        "Las características que presenta este optimizador son:\n",
        "- Simple de implementar\n",
        "- Eficiente computacionalmente\n",
        "- Pocos requerimientos de memoria\n",
        "- Invariante ante el cambio de escala diagonal de los gradientes\n",
        "- Conveniente para problemas \"grandes\" en términos de datos y/o parámetros\n",
        "- Apropiado para objetivos no-estacionarios\n",
        "- Apropiado para problemas con mucho ruido o gradientes ralos\n",
        "- Hiperparámetros con interpretación intuitiva y que usualmente requieren poca configuración\n",
        "\n",
        "Además, especificamos el tipo de función de pérdida, que es la entropía cruzada categórica que se utiliza para la clasificación de clases múltiples (también se puede utilizar la entropía cruzada binaria como función de pérdida). Por último, especificamos las métricas como medida de precisión que analizaremos mientras el modelo se está entrenando."
      ]
    },
    {
      "cell_type": "code",
      "metadata": {
        "id": "cEkI9cJ-3FtD",
        "colab_type": "code",
        "colab": {}
      },
      "source": [
        "fashion_model.compile(loss=keras.losses.categorical_crossentropy, optimizer=keras.optimizers.Adam(),metrics=['accuracy'])"
      ],
      "execution_count": 13,
      "outputs": []
    },
    {
      "cell_type": "code",
      "metadata": {
        "id": "0RuPzjH63Llw",
        "colab_type": "code",
        "colab": {
          "base_uri": "https://localhost:8080/",
          "height": 607
        },
        "outputId": "836144a8-6698-4625-a29f-dd02dbab7759"
      },
      "source": [
        "fashion_model.summary()"
      ],
      "execution_count": 14,
      "outputs": [
        {
          "output_type": "stream",
          "text": [
            "Model: \"sequential\"\n",
            "_________________________________________________________________\n",
            "Layer (type)                 Output Shape              Param #   \n",
            "=================================================================\n",
            "conv2d (Conv2D)              (None, 28, 28, 32)        320       \n",
            "_________________________________________________________________\n",
            "leaky_re_lu (LeakyReLU)      (None, 28, 28, 32)        0         \n",
            "_________________________________________________________________\n",
            "max_pooling2d (MaxPooling2D) (None, 14, 14, 32)        0         \n",
            "_________________________________________________________________\n",
            "conv2d_1 (Conv2D)            (None, 14, 14, 64)        18496     \n",
            "_________________________________________________________________\n",
            "leaky_re_lu_1 (LeakyReLU)    (None, 14, 14, 64)        0         \n",
            "_________________________________________________________________\n",
            "max_pooling2d_1 (MaxPooling2 (None, 7, 7, 64)          0         \n",
            "_________________________________________________________________\n",
            "conv2d_2 (Conv2D)            (None, 7, 7, 128)         73856     \n",
            "_________________________________________________________________\n",
            "leaky_re_lu_2 (LeakyReLU)    (None, 7, 7, 128)         0         \n",
            "_________________________________________________________________\n",
            "max_pooling2d_2 (MaxPooling2 (None, 4, 4, 128)         0         \n",
            "_________________________________________________________________\n",
            "flatten (Flatten)            (None, 2048)              0         \n",
            "_________________________________________________________________\n",
            "dense (Dense)                (None, 128)               262272    \n",
            "_________________________________________________________________\n",
            "leaky_re_lu_3 (LeakyReLU)    (None, 128)               0         \n",
            "_________________________________________________________________\n",
            "dense_1 (Dense)              (None, 10)                1290      \n",
            "=================================================================\n",
            "Total params: 356,234\n",
            "Trainable params: 356,234\n",
            "Non-trainable params: 0\n",
            "_________________________________________________________________\n"
          ],
          "name": "stdout"
        }
      ]
    },
    {
      "cell_type": "markdown",
      "metadata": {
        "id": "i9OCx6NYe5XA",
        "colab_type": "text"
      },
      "source": [
        "## Entrenamiento del modelo\n",
        "\n",
        "Es momento de entrenar el modelo con la función `fit()` de Keras, durante 20 épocas. La función `fit()` devolverá un objeto `history`, que utilizaremos sobre `fashion_train` para trazar los gráficos de la función de precisión y pérdida entre el entrenamiento y la validación, lo que ayudará a analizar visualmente el rendimiento del modelo."
      ]
    },
    {
      "cell_type": "code",
      "metadata": {
        "id": "tPy5Uk1S3N1D",
        "colab_type": "code",
        "colab": {
          "base_uri": "https://localhost:8080/",
          "height": 712
        },
        "outputId": "114a76aa-fcde-4ab3-a66f-1cf80bbce0b6"
      },
      "source": [
        "fashion_train = fashion_model.fit(train_X, train_label, batch_size=batch_size,epochs=epochs,verbose=1,validation_data=(valid_X, valid_label))"
      ],
      "execution_count": 15,
      "outputs": [
        {
          "output_type": "stream",
          "text": [
            "Epoch 1/20\n",
            "750/750 [==============================] - 4s 5ms/step - loss: 0.4622 - accuracy: 0.8316 - val_loss: 0.3207 - val_accuracy: 0.8846\n",
            "Epoch 2/20\n",
            "750/750 [==============================] - 3s 5ms/step - loss: 0.2854 - accuracy: 0.8948 - val_loss: 0.3006 - val_accuracy: 0.8910\n",
            "Epoch 3/20\n",
            "750/750 [==============================] - 3s 5ms/step - loss: 0.2392 - accuracy: 0.9133 - val_loss: 0.2644 - val_accuracy: 0.9047\n",
            "Epoch 4/20\n",
            "750/750 [==============================] - 4s 5ms/step - loss: 0.2067 - accuracy: 0.9244 - val_loss: 0.2481 - val_accuracy: 0.9092\n",
            "Epoch 5/20\n",
            "750/750 [==============================] - 4s 5ms/step - loss: 0.1827 - accuracy: 0.9325 - val_loss: 0.2200 - val_accuracy: 0.9198\n",
            "Epoch 6/20\n",
            "750/750 [==============================] - 3s 5ms/step - loss: 0.1591 - accuracy: 0.9404 - val_loss: 0.2412 - val_accuracy: 0.9173\n",
            "Epoch 7/20\n",
            "750/750 [==============================] - 3s 5ms/step - loss: 0.1388 - accuracy: 0.9479 - val_loss: 0.2481 - val_accuracy: 0.9163\n",
            "Epoch 8/20\n",
            "750/750 [==============================] - 3s 5ms/step - loss: 0.1181 - accuracy: 0.9556 - val_loss: 0.2701 - val_accuracy: 0.9155\n",
            "Epoch 9/20\n",
            "750/750 [==============================] - 3s 5ms/step - loss: 0.0966 - accuracy: 0.9646 - val_loss: 0.2708 - val_accuracy: 0.9123\n",
            "Epoch 10/20\n",
            "750/750 [==============================] - 3s 5ms/step - loss: 0.0829 - accuracy: 0.9692 - val_loss: 0.2734 - val_accuracy: 0.9216\n",
            "Epoch 11/20\n",
            "750/750 [==============================] - 3s 5ms/step - loss: 0.0728 - accuracy: 0.9720 - val_loss: 0.2834 - val_accuracy: 0.9220\n",
            "Epoch 12/20\n",
            "750/750 [==============================] - 3s 5ms/step - loss: 0.0612 - accuracy: 0.9772 - val_loss: 0.3007 - val_accuracy: 0.9234\n",
            "Epoch 13/20\n",
            "750/750 [==============================] - 3s 5ms/step - loss: 0.0561 - accuracy: 0.9786 - val_loss: 0.3199 - val_accuracy: 0.9216\n",
            "Epoch 14/20\n",
            "750/750 [==============================] - 3s 5ms/step - loss: 0.0457 - accuracy: 0.9824 - val_loss: 0.3344 - val_accuracy: 0.9162\n",
            "Epoch 15/20\n",
            "750/750 [==============================] - 3s 5ms/step - loss: 0.0396 - accuracy: 0.9851 - val_loss: 0.3673 - val_accuracy: 0.9220\n",
            "Epoch 16/20\n",
            "750/750 [==============================] - 3s 5ms/step - loss: 0.0414 - accuracy: 0.9846 - val_loss: 0.3661 - val_accuracy: 0.9208\n",
            "Epoch 17/20\n",
            "750/750 [==============================] - 3s 5ms/step - loss: 0.0335 - accuracy: 0.9877 - val_loss: 0.4359 - val_accuracy: 0.9095\n",
            "Epoch 18/20\n",
            "750/750 [==============================] - 3s 5ms/step - loss: 0.0329 - accuracy: 0.9875 - val_loss: 0.4086 - val_accuracy: 0.9198\n",
            "Epoch 19/20\n",
            "750/750 [==============================] - 3s 5ms/step - loss: 0.0298 - accuracy: 0.9886 - val_loss: 0.4271 - val_accuracy: 0.9242\n",
            "Epoch 20/20\n",
            "750/750 [==============================] - 3s 5ms/step - loss: 0.0317 - accuracy: 0.9885 - val_loss: 0.4325 - val_accuracy: 0.9212\n"
          ],
          "name": "stdout"
        }
      ]
    },
    {
      "cell_type": "markdown",
      "metadata": {
        "id": "cU-CFRqWgxpj",
        "colab_type": "text"
      },
      "source": [
        "Después de entrenar el modelo sobre el dataset fashion-MNIST por 20 épocas, y observando la precisión y pérdida en el conjunto de entrenamiento, vemos que el ajuste es bueno ya que la precisión es de casi el 99% y la pérdida menos del 3%. \n",
        "\n",
        "Sin embargo parece que hay sobrajuste, porque la pérdida en el conjunto de validación es de casi el 45% y la precisión es 92%. El sobreajuste parece indicar que la red memorizó los datos de entrenamiento muy bien, pero no garantiza que pueda predecir los datos que no ha visto, y éste es el origen de la diferencia entre los datos de entrenamiento y validación.\n",
        "\n",
        "Abordaremos esto más adelante agregando capas _dropout_, pero primero evaluaremos el desempeño del modelo sobre el conjunto de prueba."
      ]
    },
    {
      "cell_type": "markdown",
      "metadata": {
        "id": "2ulkoEeHiMQ-",
        "colab_type": "text"
      },
      "source": [
        "## Evaluación del modelo sobre el conjunto de prueba"
      ]
    },
    {
      "cell_type": "code",
      "metadata": {
        "id": "vPM5wy_s3fa8",
        "colab_type": "code",
        "colab": {
          "base_uri": "https://localhost:8080/",
          "height": 52
        },
        "outputId": "a97875ff-2056-4eb3-8e84-d950fed8cbcf"
      },
      "source": [
        "test_eval = fashion_model.evaluate(test_X, test_Y_one_hot, verbose=0)\n",
        "print('Test loss:', test_eval[0])\n",
        "print('Test accuracy:', test_eval[1])"
      ],
      "execution_count": 16,
      "outputs": [
        {
          "output_type": "stream",
          "text": [
            "Test loss: 0.4625379741191864\n",
            "Test accuracy: 0.9172000288963318\n"
          ],
          "name": "stdout"
        }
      ]
    },
    {
      "cell_type": "markdown",
      "metadata": {
        "id": "Ivhk3P5Yifn6",
        "colab_type": "text"
      },
      "source": [
        "La precisión sobre el conjunto de prueba es muy bueno (más del 91%), pero vimos que parece haber sobreajuste. Para analizar esto vamos a graficar los resultados para los datos de entrenamiento y validación:"
      ]
    },
    {
      "cell_type": "code",
      "metadata": {
        "id": "DgYpwb8931HG",
        "colab_type": "code",
        "colab": {
          "base_uri": "https://localhost:8080/",
          "height": 871
        },
        "outputId": "ac039d82-b79a-4da1-e355-2dbaeb9cb67a"
      },
      "source": [
        "accuracy = fashion_train.history['accuracy']\n",
        "val_accuracy = fashion_train.history['val_accuracy']\n",
        "loss = fashion_train.history['loss']\n",
        "val_loss = fashion_train.history['val_loss']\n",
        "epochs = range(len(accuracy))\n",
        "plt.figure(figsize=[7,7])\n",
        "plt.plot(epochs, accuracy, 'bo', label='Training accuracy')\n",
        "plt.plot(epochs, val_accuracy, 'b', label='Validation accuracy')\n",
        "plt.title('Training and validation accuracy')\n",
        "plt.legend()\n",
        "plt.figure(figsize=[7,7])\n",
        "plt.plot(epochs, loss, 'bo', label='Training loss')\n",
        "plt.plot(epochs, val_loss, 'b', label='Validation loss')\n",
        "plt.title('Training and validation loss')\n",
        "plt.legend()\n",
        "plt.show()"
      ],
      "execution_count": 17,
      "outputs": [
        {
          "output_type": "display_data",
          "data": {
            "image/png": "[encoded data removed]",
            "text/plain": [
              "<Figure size 504x504 with 1 Axes>"
            ]
          },
          "metadata": {
            "tags": [],
            "needs_background": "light"
          }
        },
        {
          "output_type": "display_data",
          "data": {
            "image/png": "[encoded data removed]",
            "text/plain": [
              "<Figure size 504x504 with 1 Axes>"
            ]
          },
          "metadata": {
            "tags": [],
            "needs_background": "light"
          }
        }
      ]
    },
    {
      "cell_type": "markdown",
      "metadata": {
        "id": "4JlB5Ghhjmik",
        "colab_type": "text"
      },
      "source": [
        "De los dos gráficos anteriores, se puede ver que la precisión de la validación casi se estancó después de 4-5 épocas y rara vez aumentó en algunas épocas. Inicialmente la precisión de la validación aumenta linealmente con la pérdida, pero luego aparece una meseta.\n",
        "\n",
        "La pérdida en el conjunto de validación muestra señales de sobreajuste, similar a la precisión de validación: disminuye linealmente pero después de 4-5 épocas, comienza a aumentar. Esto significa que el modelo intentó memorizar los datos y tuvo éxito.\n"
      ]
    },
    {
      "cell_type": "markdown",
      "metadata": {
        "id": "YDgiDOF4krMw",
        "colab_type": "text"
      },
      "source": [
        "## Agregado de _dropout_ en la red\n",
        "\n",
        "Una forma de disminuir el sobreajuste es agregar una capa de _dropout_ (abandono). _Dropout_ apaga aleatoriamente una fracción de neuronas durante el proceso de entrenamiento, lo que reduce en cierta medida la dependencia del conjunto de entrenamiento. La fracción de neuronas que se quiere desea desactivar se decide mediante un hiperparámetro, que se puede ajustar en consecuencia. De esta forma, apagar algunas neuronas no permitirá que la red memorice los datos de entrenamiento ya que no todas las neuronas estarán activas al mismo tiempo y las neuronas inactivas no podrán aprender nada.\n",
        "\n",
        "Vamos a armar una nueva red que compilaremos y entrenaremos nuevamente, pero esta vez con _dropout_. Esta nueva red será entrenada durante 20 épocas con un tamaño de batch de 64."
      ]
    },
    {
      "cell_type": "code",
      "metadata": {
        "id": "7rD_H_rh4Fhz",
        "colab_type": "code",
        "colab": {}
      },
      "source": [
        "batch_size = 64\n",
        "epochs = 20\n",
        "num_classes = 10"
      ],
      "execution_count": 18,
      "outputs": []
    },
    {
      "cell_type": "code",
      "metadata": {
        "id": "X7F77cvO42eN",
        "colab_type": "code",
        "colab": {}
      },
      "source": [
        "fashion_model = Sequential()\n",
        "fashion_model.add(Conv2D(32, kernel_size=(3, 3),activation='linear',padding='same',input_shape=(28,28,1)))\n",
        "fashion_model.add(LeakyReLU(alpha=0.1))\n",
        "fashion_model.add(MaxPooling2D((2, 2),padding='same'))\n",
        "fashion_model.add(Dropout(0.25))\n",
        "fashion_model.add(Conv2D(64, (3, 3), activation='linear',padding='same'))\n",
        "fashion_model.add(LeakyReLU(alpha=0.1))\n",
        "fashion_model.add(MaxPooling2D(pool_size=(2, 2),padding='same'))\n",
        "fashion_model.add(Dropout(0.25))\n",
        "fashion_model.add(Conv2D(128, (3, 3), activation='linear',padding='same'))\n",
        "fashion_model.add(LeakyReLU(alpha=0.1))                  \n",
        "fashion_model.add(MaxPooling2D(pool_size=(2, 2),padding='same'))\n",
        "fashion_model.add(Dropout(0.4))\n",
        "fashion_model.add(Flatten())\n",
        "fashion_model.add(Dense(128, activation='linear'))\n",
        "fashion_model.add(LeakyReLU(alpha=0.1))           \n",
        "fashion_model.add(Dropout(0.3))\n",
        "fashion_model.add(Dense(num_classes, activation='softmax'))"
      ],
      "execution_count": 19,
      "outputs": []
    },
    {
      "cell_type": "code",
      "metadata": {
        "id": "Z6J_NbN645VD",
        "colab_type": "code",
        "colab": {
          "base_uri": "https://localhost:8080/",
          "height": 746
        },
        "outputId": "07d7af38-3f45-4140-fbd6-5be86f84922b"
      },
      "source": [
        "fashion_model.summary()"
      ],
      "execution_count": 20,
      "outputs": [
        {
          "output_type": "stream",
          "text": [
            "Model: \"sequential_1\"\n",
            "_________________________________________________________________\n",
            "Layer (type)                 Output Shape              Param #   \n",
            "=================================================================\n",
            "conv2d_3 (Conv2D)            (None, 28, 28, 32)        320       \n",
            "_________________________________________________________________\n",
            "leaky_re_lu_4 (LeakyReLU)    (None, 28, 28, 32)        0         \n",
            "_________________________________________________________________\n",
            "max_pooling2d_3 (MaxPooling2 (None, 14, 14, 32)        0         \n",
            "_________________________________________________________________\n",
            "dropout (Dropout)            (None, 14, 14, 32)        0         \n",
            "_________________________________________________________________\n",
            "conv2d_4 (Conv2D)            (None, 14, 14, 64)        18496     \n",
            "_________________________________________________________________\n",
            "leaky_re_lu_5 (LeakyReLU)    (None, 14, 14, 64)        0         \n",
            "_________________________________________________________________\n",
            "max_pooling2d_4 (MaxPooling2 (None, 7, 7, 64)          0         \n",
            "_________________________________________________________________\n",
            "dropout_1 (Dropout)          (None, 7, 7, 64)          0         \n",
            "_________________________________________________________________\n",
            "conv2d_5 (Conv2D)            (None, 7, 7, 128)         73856     \n",
            "_________________________________________________________________\n",
            "leaky_re_lu_6 (LeakyReLU)    (None, 7, 7, 128)         0         \n",
            "_________________________________________________________________\n",
            "max_pooling2d_5 (MaxPooling2 (None, 4, 4, 128)         0         \n",
            "_________________________________________________________________\n",
            "dropout_2 (Dropout)          (None, 4, 4, 128)         0         \n",
            "_________________________________________________________________\n",
            "flatten_1 (Flatten)          (None, 2048)              0         \n",
            "_________________________________________________________________\n",
            "dense_2 (Dense)              (None, 128)               262272    \n",
            "_________________________________________________________________\n",
            "leaky_re_lu_7 (LeakyReLU)    (None, 128)               0         \n",
            "_________________________________________________________________\n",
            "dropout_3 (Dropout)          (None, 128)               0         \n",
            "_________________________________________________________________\n",
            "dense_3 (Dense)              (None, 10)                1290      \n",
            "=================================================================\n",
            "Total params: 356,234\n",
            "Trainable params: 356,234\n",
            "Non-trainable params: 0\n",
            "_________________________________________________________________\n"
          ],
          "name": "stdout"
        }
      ]
    },
    {
      "cell_type": "code",
      "metadata": {
        "id": "LGPN65UD4-Xb",
        "colab_type": "code",
        "colab": {}
      },
      "source": [
        "fashion_model.compile(loss=keras.losses.categorical_crossentropy, optimizer=keras.optimizers.Adam(),metrics=['accuracy'])"
      ],
      "execution_count": 21,
      "outputs": []
    },
    {
      "cell_type": "code",
      "metadata": {
        "id": "-TSxqo8j5FZj",
        "colab_type": "code",
        "colab": {
          "base_uri": "https://localhost:8080/",
          "height": 712
        },
        "outputId": "edc2a809-1c92-4879-e36d-d6a3d0bcf59b"
      },
      "source": [
        "fashion_train_dropout = fashion_model.fit(train_X, train_label, batch_size=batch_size,epochs=epochs,verbose=1,validation_data=(valid_X, valid_label))"
      ],
      "execution_count": 22,
      "outputs": [
        {
          "output_type": "stream",
          "text": [
            "Epoch 1/20\n",
            "750/750 [==============================] - 4s 5ms/step - loss: 0.6165 - accuracy: 0.7715 - val_loss: 0.3778 - val_accuracy: 0.8639\n",
            "Epoch 2/20\n",
            "750/750 [==============================] - 4s 5ms/step - loss: 0.3803 - accuracy: 0.8607 - val_loss: 0.3092 - val_accuracy: 0.8852\n",
            "Epoch 3/20\n",
            "750/750 [==============================] - 4s 5ms/step - loss: 0.3355 - accuracy: 0.8753 - val_loss: 0.2913 - val_accuracy: 0.8923\n",
            "Epoch 4/20\n",
            "750/750 [==============================] - 4s 5ms/step - loss: 0.3044 - accuracy: 0.8874 - val_loss: 0.2714 - val_accuracy: 0.8988\n",
            "Epoch 5/20\n",
            "750/750 [==============================] - 4s 5ms/step - loss: 0.2846 - accuracy: 0.8943 - val_loss: 0.2513 - val_accuracy: 0.9056\n",
            "Epoch 6/20\n",
            "750/750 [==============================] - 4s 5ms/step - loss: 0.2699 - accuracy: 0.8989 - val_loss: 0.2334 - val_accuracy: 0.9143\n",
            "Epoch 7/20\n",
            "750/750 [==============================] - 4s 5ms/step - loss: 0.2586 - accuracy: 0.9026 - val_loss: 0.2410 - val_accuracy: 0.9111\n",
            "Epoch 8/20\n",
            "750/750 [==============================] - 4s 5ms/step - loss: 0.2489 - accuracy: 0.9072 - val_loss: 0.2226 - val_accuracy: 0.9175\n",
            "Epoch 9/20\n",
            "750/750 [==============================] - 4s 5ms/step - loss: 0.2388 - accuracy: 0.9111 - val_loss: 0.2266 - val_accuracy: 0.9155\n",
            "Epoch 10/20\n",
            "750/750 [==============================] - 4s 5ms/step - loss: 0.2336 - accuracy: 0.9129 - val_loss: 0.2348 - val_accuracy: 0.9135\n",
            "Epoch 11/20\n",
            "750/750 [==============================] - 4s 5ms/step - loss: 0.2291 - accuracy: 0.9142 - val_loss: 0.2190 - val_accuracy: 0.9201\n",
            "Epoch 12/20\n",
            "750/750 [==============================] - 4s 5ms/step - loss: 0.2234 - accuracy: 0.9174 - val_loss: 0.2112 - val_accuracy: 0.9218\n",
            "Epoch 13/20\n",
            "750/750 [==============================] - 4s 5ms/step - loss: 0.2164 - accuracy: 0.9197 - val_loss: 0.2153 - val_accuracy: 0.9218\n",
            "Epoch 14/20\n",
            "750/750 [==============================] - 4s 5ms/step - loss: 0.2139 - accuracy: 0.9193 - val_loss: 0.2156 - val_accuracy: 0.9214\n",
            "Epoch 15/20\n",
            "750/750 [==============================] - 4s 5ms/step - loss: 0.2095 - accuracy: 0.9214 - val_loss: 0.2076 - val_accuracy: 0.9250\n",
            "Epoch 16/20\n",
            "750/750 [==============================] - 4s 5ms/step - loss: 0.2074 - accuracy: 0.9218 - val_loss: 0.2120 - val_accuracy: 0.9221\n",
            "Epoch 17/20\n",
            "750/750 [==============================] - 4s 5ms/step - loss: 0.2043 - accuracy: 0.9225 - val_loss: 0.2163 - val_accuracy: 0.9227\n",
            "Epoch 18/20\n",
            "750/750 [==============================] - 4s 5ms/step - loss: 0.2009 - accuracy: 0.9234 - val_loss: 0.2077 - val_accuracy: 0.9273\n",
            "Epoch 19/20\n",
            "750/750 [==============================] - 4s 5ms/step - loss: 0.1956 - accuracy: 0.9263 - val_loss: 0.2120 - val_accuracy: 0.9273\n",
            "Epoch 20/20\n",
            "750/750 [==============================] - 4s 5ms/step - loss: 0.1949 - accuracy: 0.9268 - val_loss: 0.2204 - val_accuracy: 0.9213\n"
          ],
          "name": "stdout"
        }
      ]
    },
    {
      "cell_type": "markdown",
      "metadata": {
        "id": "ksoeJAU_l8D9",
        "colab_type": "text"
      },
      "source": [
        "Podemos guardar el modelo. De esta forma, podemos cargar el modelo más adelante si lo necesitamos y no tener que volver a entrenarlo. Alternativamente, podemos modificar la arquitectura e iniciar el proceso de entrenamiento. Siempre es una buena idea guardar el modelo e incluso los pesos porque ahorra tiempo. También se puede guardar el modelo después de cada época para que, si ocurre algún problema que detiene el entrenamiento en una época, no tener que iniciar el entrenamiento desde el principio."
      ]
    },
    {
      "cell_type": "code",
      "metadata": {
        "id": "ZNdvhjsS5HrS",
        "colab_type": "code",
        "colab": {
          "base_uri": "https://localhost:8080/",
          "height": 159
        },
        "outputId": "7ae31123-a345-4a0f-a236-f0eebe83a175"
      },
      "source": [
        "fashion_model.save(\"fashion_model_dropout.h5py\")"
      ],
      "execution_count": 23,
      "outputs": [
        {
          "output_type": "stream",
          "text": [
            "WARNING:tensorflow:From /usr/local/lib/python3.6/dist-packages/tensorflow/python/training/tracking/tracking.py:111: Model.state_updates (from tensorflow.python.keras.engine.training) is deprecated and will be removed in a future version.\n",
            "Instructions for updating:\n",
            "This property should not be used in TensorFlow 2.0, as updates are applied automatically.\n",
            "WARNING:tensorflow:From /usr/local/lib/python3.6/dist-packages/tensorflow/python/training/tracking/tracking.py:111: Layer.updates (from tensorflow.python.keras.engine.base_layer) is deprecated and will be removed in a future version.\n",
            "Instructions for updating:\n",
            "This property should not be used in TensorFlow 2.0, as updates are applied automatically.\n",
            "INFO:tensorflow:Assets written to: fashion_model_dropout.h5py/assets\n"
          ],
          "name": "stdout"
        }
      ]
    },
    {
      "cell_type": "markdown",
      "metadata": {
        "id": "to3Hlpp5myav",
        "colab_type": "text"
      },
      "source": [
        "## Evaluación del modelo en el conjunto de prueba\n",
        "\n",
        "Finalmente, evaluaremos el nuevo model y veremos su desempeño."
      ]
    },
    {
      "cell_type": "code",
      "metadata": {
        "id": "JeRnlQD25bLY",
        "colab_type": "code",
        "colab": {
          "base_uri": "https://localhost:8080/",
          "height": 34
        },
        "outputId": "f4afe3a5-1699-4156-cf1b-fae1299afb3c"
      },
      "source": [
        "test_eval = fashion_model.evaluate(test_X, test_Y_one_hot, verbose=1)"
      ],
      "execution_count": 24,
      "outputs": [
        {
          "output_type": "stream",
          "text": [
            "313/313 [==============================] - 1s 3ms/step - loss: 0.2324 - accuracy: 0.9201\n"
          ],
          "name": "stdout"
        }
      ]
    },
    {
      "cell_type": "code",
      "metadata": {
        "id": "KIFzvZxa5iDv",
        "colab_type": "code",
        "colab": {
          "base_uri": "https://localhost:8080/",
          "height": 52
        },
        "outputId": "58d3859d-fb28-4382-e4c8-cd3c069edf4c"
      },
      "source": [
        "print('Test loss:', test_eval[0])\n",
        "print('Test accuracy:', test_eval[1])"
      ],
      "execution_count": 25,
      "outputs": [
        {
          "output_type": "stream",
          "text": [
            "Test loss: 0.2324201464653015\n",
            "Test accuracy: 0.9200999736785889\n"
          ],
          "name": "stdout"
        }
      ]
    },
    {
      "cell_type": "markdown",
      "metadata": {
        "id": "Y67Tj9qane3E",
        "colab_type": "text"
      },
      "source": [
        "Se observa que agregar capas `dropout` mejora el desempeño. Aunque la precisión no mejora significativamente, la pérdida sobre el conjunto de prueba disminuye comparado con los resultados previos.\n",
        "\n",
        "Veamos los gráficos de precisión y pérdida para los datos de entrenamiento y validación:"
      ]
    },
    {
      "cell_type": "code",
      "metadata": {
        "id": "g4pbr4645lRo",
        "colab_type": "code",
        "colab": {
          "base_uri": "https://localhost:8080/",
          "height": 871
        },
        "outputId": "823da17e-4d6b-42ba-911f-0b6f3aa117dd"
      },
      "source": [
        "accuracy = fashion_train_dropout.history['accuracy']\n",
        "val_accuracy = fashion_train_dropout.history['val_accuracy']\n",
        "loss = fashion_train_dropout.history['loss']\n",
        "val_loss = fashion_train_dropout.history['val_loss']\n",
        "epochs = range(len(accuracy))\n",
        "plt.figure(figsize=[7,7])\n",
        "plt.plot(epochs, accuracy, 'bo', label='Training accuracy')\n",
        "plt.plot(epochs, val_accuracy, 'b', label='Validation accuracy')\n",
        "plt.title('Training and validation accuracy')\n",
        "plt.legend()\n",
        "plt.figure(figsize=[7,7])\n",
        "plt.plot(epochs, loss, 'bo', label='Training loss')\n",
        "plt.plot(epochs, val_loss, 'b', label='Validation loss')\n",
        "plt.title('Training and validation loss')\n",
        "plt.legend()\n",
        "plt.show()"
      ],
      "execution_count": 26,
      "outputs": [
        {
          "output_type": "display_data",
          "data": {
            "image/png": "[encoded data removed]",
            "text/plain": [
              "<Figure size 504x504 with 1 Axes>"
            ]
          },
          "metadata": {
            "tags": [],
            "needs_background": "light"
          }
        },
        {
          "output_type": "display_data",
          "data": {
            "image/png": "[encoded data removed]",
            "text/plain": [
              "<Figure size 504x504 with 1 Axes>"
            ]
          },
          "metadata": {
            "tags": [],
            "needs_background": "light"
          }
        }
      ]
    },
    {
      "cell_type": "markdown",
      "metadata": {
        "id": "h5saDn-votX3",
        "colab_type": "text"
      },
      "source": [
        "Finalmente, se puede ver que la pérdida y la precisión en el conjunto de validación están sincronizadas con la pérdida y la precisión en el conjunto de entrenamiento. Aunque la pérdida de validación y la curva de precisión no son lineales, muestra que el modelo no está sobreajustado: la pérdida de validación disminuye y no aumenta, y no hay mucha brecha entre el entrenamiento y la precisión de validación.\n",
        "\n",
        "Por lo tanto, se puede decir que la capacidad de generalización del modelo mejoró mucho, ya que la pérdida tanto en el conjunto de prueba como en el conjunto de validación fue solo un poco mayor en comparación con la pérdida de entrenamiento."
      ]
    },
    {
      "cell_type": "markdown",
      "metadata": {
        "id": "Hi4W-X8so2f4",
        "colab_type": "text"
      },
      "source": [
        "## Predicción de etiquetas\n",
        "\n",
        "Dado que las predicciones que se obtienen son valores de punto flotante, no será factible comparar las etiquetas predichas con etiquetas de prueba verdaderas. Por lo tanto, se debe redondea la salida que para convertir los valores de punto flotante en un número entero. Usaremos `np.argmax()` para seleccionar el número de índice que tiene un valor más alto en una fila.\n",
        "\n",
        "Por ejemplo, supongamos que una predicción para una imagen de prueba es [0 1 0 0 0 0 0 0 0 0], la salida para esto debe ser una etiqueta de clase 1."
      ]
    },
    {
      "cell_type": "code",
      "metadata": {
        "id": "g0FhaVHi6Vxp",
        "colab_type": "code",
        "colab": {}
      },
      "source": [
        "predicted_classes = fashion_model.predict(test_X)"
      ],
      "execution_count": 27,
      "outputs": []
    },
    {
      "cell_type": "code",
      "metadata": {
        "id": "Zd_h4KkT6aGC",
        "colab_type": "code",
        "colab": {
          "base_uri": "https://localhost:8080/",
          "height": 34
        },
        "outputId": "c0e805ac-bf54-403d-de1a-6ad73fd01c66"
      },
      "source": [
        "predicted_classes = np.argmax(np.round(predicted_classes),axis=1)\n",
        "predicted_classes.shape, test_Y.shape"
      ],
      "execution_count": 28,
      "outputs": [
        {
          "output_type": "execute_result",
          "data": {
            "text/plain": [
              "((10000,), (10000,))"
            ]
          },
          "metadata": {
            "tags": []
          },
          "execution_count": 28
        }
      ]
    },
    {
      "cell_type": "code",
      "metadata": {
        "id": "k8TiFJNf6euJ",
        "colab_type": "code",
        "colab": {
          "base_uri": "https://localhost:8080/",
          "height": 530
        },
        "outputId": "611ac4b4-ba85-4a08-f640-9f2846cf73c6"
      },
      "source": [
        "correct = np.where(predicted_classes==test_Y)[0]\n",
        "print(\"Se encontraron %d etiquetas correctas\" % len(correct))\n",
        "plt.figure(figsize=[7,7])\n",
        "for i, correct in enumerate(correct[:9]):\n",
        "    plt.subplot(3,3,i+1)\n",
        "    plt.imshow(test_X[correct].reshape(28,28), cmap='gray', interpolation='none')\n",
        "    plt.title(\"Predicha {}, Clase {}\".format(predicted_classes[correct], test_Y[correct]))\n",
        "    plt.tight_layout()"
      ],
      "execution_count": 29,
      "outputs": [
        {
          "output_type": "stream",
          "text": [
            "Se encontraron 9170 etiquetas correctas\n"
          ],
          "name": "stdout"
        },
        {
          "output_type": "display_data",
          "data": {
            "image/png": "[encoded data removed]",
            "text/plain": [
              "<Figure size 504x504 with 9 Axes>"
            ]
          },
          "metadata": {
            "tags": [],
            "needs_background": "light"
          }
        }
      ]
    },
    {
      "cell_type": "code",
      "metadata": {
        "id": "6F4l3Un96h8x",
        "colab_type": "code",
        "colab": {
          "base_uri": "https://localhost:8080/",
          "height": 530
        },
        "outputId": "73036665-e7ee-4765-9592-7a1cf467fff3"
      },
      "source": [
        "incorrect = np.where(predicted_classes!=test_Y)[0]\n",
        "print(\"Se encontraron %d etiquetas incorrectas\" % len(incorrect))\n",
        "plt.figure(figsize=[7,7])\n",
        "for i, incorrect in enumerate(incorrect[:9]):\n",
        "    plt.subplot(3,3,i+1)\n",
        "    plt.imshow(test_X[incorrect].reshape(28,28), cmap='gray', interpolation='none')\n",
        "    plt.title(\"Predicted {}, Class {}\".format(predicted_classes[incorrect], test_Y[incorrect]))\n",
        "    plt.tight_layout()"
      ],
      "execution_count": 30,
      "outputs": [
        {
          "output_type": "stream",
          "text": [
            "Se encontraron 830 etiquetas incorrectas\n"
          ],
          "name": "stdout"
        },
        {
          "output_type": "display_data",
          "data": {
            "image/png": "[encoded data removed]",
            "text/plain": [
              "<Figure size 504x504 with 9 Axes>"
            ]
          },
          "metadata": {
            "tags": [],
            "needs_background": "light"
          }
        }
      ]
    },
    {
      "cell_type": "markdown",
      "metadata": {
        "id": "hfBJ37Qyqdgj",
        "colab_type": "text"
      },
      "source": [
        "Al mirar algunas imágenes, no se puede estar seguro de por qué el modelo no puede clasificar las imágenes anteriores correctamente, pero parece que una variedad de patrones similares presentes en múltiples clases afectan el rendimiento del clasificador, aunque CNN es un arquitectura robusta. Por ejemplo, las imágenes 4 y 5 pertenecen a clases diferentes pero se ven algo similares, tal vez un buzo o tal vez una camisa de manga larga."
      ]
    },
    {
      "cell_type": "markdown",
      "metadata": {
        "id": "j5zRxJCJqiMp",
        "colab_type": "text"
      },
      "source": [
        "## Informe de clasificación\n",
        "\n",
        "El informe de clasificación puede ayudar a identificar a las clases predichas erróneamente con más detalle. Muestra las clases en las que el modelo tuvo un desempeño pobre:"
      ]
    },
    {
      "cell_type": "code",
      "metadata": {
        "id": "pPkATlTp60HP",
        "colab_type": "code",
        "colab": {
          "base_uri": "https://localhost:8080/",
          "height": 312
        },
        "outputId": "b2975287-9b23-4947-b8dc-2492606ee783"
      },
      "source": [
        "from sklearn.metrics import classification_report\n",
        "target_names = [\"Class {}\".format(i) for i in range(num_classes)]\n",
        "print(classification_report(test_Y, predicted_classes, target_names=target_names))"
      ],
      "execution_count": 31,
      "outputs": [
        {
          "output_type": "stream",
          "text": [
            "              precision    recall  f1-score   support\n",
            "\n",
            "     Class 0       0.76      0.94      0.84      1000\n",
            "     Class 1       0.99      0.98      0.99      1000\n",
            "     Class 2       0.85      0.91      0.88      1000\n",
            "     Class 3       0.92      0.93      0.93      1000\n",
            "     Class 4       0.89      0.86      0.88      1000\n",
            "     Class 5       0.99      0.98      0.99      1000\n",
            "     Class 6       0.89      0.64      0.74      1000\n",
            "     Class 7       0.96      0.98      0.97      1000\n",
            "     Class 8       0.98      0.99      0.99      1000\n",
            "     Class 9       0.98      0.96      0.97      1000\n",
            "\n",
            "    accuracy                           0.92     10000\n",
            "   macro avg       0.92      0.92      0.92     10000\n",
            "weighted avg       0.92      0.92      0.92     10000\n",
            "\n"
          ],
          "name": "stdout"
        }
      ]
    },
    {
      "cell_type": "markdown",
      "metadata": {
        "id": "Anb4hxE9rNGV",
        "colab_type": "text"
      },
      "source": [
        "Se puede ver que el clasificador tiene un rendimiento inferior para la clase 6 en cuanto a precisión y memoria. Para las clases 0 y 2, el clasificador carece de precisión. Además, para la clase 4, el clasificador carece levemente de precisión y memoria. El siguiente diagrama ofrece una interpretación visual de los resultados de `clasification_report()` (de [Wikimedia](https://en.wikipedia.org/wiki/F1_score) )\n",
        "![class_rep](https://upload.wikimedia.org/wikipedia/commons/2/26/Precisionrecall.svg)"
      ]
    },
    {
      "cell_type": "code",
      "metadata": {
        "id": "UA53pj2jHfzi",
        "colab_type": "code",
        "colab": {}
      },
      "source": [
        ""
      ],
      "execution_count": null,
      "outputs": []
    }
  ]
}